{
 "cells": [
  {
   "cell_type": "code",
   "execution_count": 1,
   "metadata": {},
   "outputs": [],
   "source": [
    "import pandas as pd\n",
    "import numpy as np"
   ]
  },
  {
   "cell_type": "code",
   "execution_count": 33,
   "metadata": {},
   "outputs": [
    {
     "data": {
      "text/html": [
       "<div>\n",
       "<style scoped>\n",
       "    .dataframe tbody tr th:only-of-type {\n",
       "        vertical-align: middle;\n",
       "    }\n",
       "\n",
       "    .dataframe tbody tr th {\n",
       "        vertical-align: top;\n",
       "    }\n",
       "\n",
       "    .dataframe thead th {\n",
       "        text-align: right;\n",
       "    }\n",
       "</style>\n",
       "<table border=\"1\" class=\"dataframe\">\n",
       "  <thead>\n",
       "    <tr style=\"text-align: right;\">\n",
       "      <th></th>\n",
       "      <th>Date (GMT)</th>\n",
       "      <th>Significant Wave Height(m)</th>\n",
       "      <th>Mean Period(s)</th>\n",
       "      <th>Peak Period(s)</th>\n",
       "      <th>Waves coming-from Direc.(0=N,90=E)</th>\n",
       "      <th>Wind Sea: Spectral Signif. Wave Height(m)</th>\n",
       "      <th>Wind Sea: Coming-from Mean Direct.(0=N,90=E)</th>\n",
       "      <th>Swell 1: Spectral Signif. Wave Height(m)</th>\n",
       "      <th>Swell 1: Spectral Mean Period(s)</th>\n",
       "      <th>Swell 1: Coming-from Mean Direct.(0=N,90=E)</th>\n",
       "      <th>Swell 2: Spectral Signif. Wave Height(m)</th>\n",
       "      <th>Swell 2: Spectral Mean Period(s)</th>\n",
       "      <th>Swell 2: Coming-from Mean Direct.(0=N,90=E)</th>\n",
       "    </tr>\n",
       "  </thead>\n",
       "  <tbody>\n",
       "    <tr>\n",
       "      <th>0</th>\n",
       "      <td>1958-01-04 00:00:00</td>\n",
       "      <td>1.70</td>\n",
       "      <td>4.75</td>\n",
       "      <td>10.31</td>\n",
       "      <td>218</td>\n",
       "      <td>-9999.9</td>\n",
       "      <td>-9999.9</td>\n",
       "      <td>0.97</td>\n",
       "      <td>-9999.9</td>\n",
       "      <td>246.0</td>\n",
       "      <td>-9999.9</td>\n",
       "      <td>-9999.9</td>\n",
       "      <td>-9999.9</td>\n",
       "    </tr>\n",
       "    <tr>\n",
       "      <th>1</th>\n",
       "      <td>1958-01-04 01:00:00</td>\n",
       "      <td>1.70</td>\n",
       "      <td>4.75</td>\n",
       "      <td>10.31</td>\n",
       "      <td>218</td>\n",
       "      <td>-9999.9</td>\n",
       "      <td>-9999.9</td>\n",
       "      <td>0.53</td>\n",
       "      <td>-9999.9</td>\n",
       "      <td>230.0</td>\n",
       "      <td>-9999.9</td>\n",
       "      <td>-9999.9</td>\n",
       "      <td>-9999.9</td>\n",
       "    </tr>\n",
       "    <tr>\n",
       "      <th>2</th>\n",
       "      <td>1958-01-04 02:00:00</td>\n",
       "      <td>1.70</td>\n",
       "      <td>4.75</td>\n",
       "      <td>10.31</td>\n",
       "      <td>218</td>\n",
       "      <td>-9999.9</td>\n",
       "      <td>-9999.9</td>\n",
       "      <td>3.26</td>\n",
       "      <td>-9999.9</td>\n",
       "      <td>254.0</td>\n",
       "      <td>-9999.9</td>\n",
       "      <td>-9999.9</td>\n",
       "      <td>-9999.9</td>\n",
       "    </tr>\n",
       "    <tr>\n",
       "      <th>3</th>\n",
       "      <td>1958-01-04 03:00:00</td>\n",
       "      <td>1.69</td>\n",
       "      <td>4.76</td>\n",
       "      <td>10.20</td>\n",
       "      <td>218</td>\n",
       "      <td>-9999.9</td>\n",
       "      <td>-9999.9</td>\n",
       "      <td>0.55</td>\n",
       "      <td>-9999.9</td>\n",
       "      <td>229.0</td>\n",
       "      <td>-9999.9</td>\n",
       "      <td>-9999.9</td>\n",
       "      <td>-9999.9</td>\n",
       "    </tr>\n",
       "    <tr>\n",
       "      <th>4</th>\n",
       "      <td>1958-01-04 04:00:00</td>\n",
       "      <td>1.68</td>\n",
       "      <td>4.79</td>\n",
       "      <td>10.20</td>\n",
       "      <td>219</td>\n",
       "      <td>-9999.9</td>\n",
       "      <td>-9999.9</td>\n",
       "      <td>0.81</td>\n",
       "      <td>-9999.9</td>\n",
       "      <td>246.0</td>\n",
       "      <td>-9999.9</td>\n",
       "      <td>-9999.9</td>\n",
       "      <td>-9999.9</td>\n",
       "    </tr>\n",
       "  </tbody>\n",
       "</table>\n",
       "</div>"
      ],
      "text/plain": [
       "           Date (GMT)  Significant Wave Height(m)  Mean Period(s)  \\\n",
       "0 1958-01-04 00:00:00                        1.70            4.75   \n",
       "1 1958-01-04 01:00:00                        1.70            4.75   \n",
       "2 1958-01-04 02:00:00                        1.70            4.75   \n",
       "3 1958-01-04 03:00:00                        1.69            4.76   \n",
       "4 1958-01-04 04:00:00                        1.68            4.79   \n",
       "\n",
       "   Peak Period(s)  Waves coming-from Direc.(0=N,90=E)  \\\n",
       "0           10.31                                 218   \n",
       "1           10.31                                 218   \n",
       "2           10.31                                 218   \n",
       "3           10.20                                 218   \n",
       "4           10.20                                 219   \n",
       "\n",
       "   Wind Sea: Spectral Signif. Wave Height(m)  \\\n",
       "0                                    -9999.9   \n",
       "1                                    -9999.9   \n",
       "2                                    -9999.9   \n",
       "3                                    -9999.9   \n",
       "4                                    -9999.9   \n",
       "\n",
       "   Wind Sea: Coming-from Mean Direct.(0=N,90=E)  \\\n",
       "0                                       -9999.9   \n",
       "1                                       -9999.9   \n",
       "2                                       -9999.9   \n",
       "3                                       -9999.9   \n",
       "4                                       -9999.9   \n",
       "\n",
       "   Swell 1: Spectral Signif. Wave Height(m)  Swell 1: Spectral Mean Period(s)  \\\n",
       "0                                      0.97                           -9999.9   \n",
       "1                                      0.53                           -9999.9   \n",
       "2                                      3.26                           -9999.9   \n",
       "3                                      0.55                           -9999.9   \n",
       "4                                      0.81                           -9999.9   \n",
       "\n",
       "   Swell 1: Coming-from Mean Direct.(0=N,90=E)  \\\n",
       "0                                        246.0   \n",
       "1                                        230.0   \n",
       "2                                        254.0   \n",
       "3                                        229.0   \n",
       "4                                        246.0   \n",
       "\n",
       "   Swell 2: Spectral Signif. Wave Height(m)  Swell 2: Spectral Mean Period(s)  \\\n",
       "0                                   -9999.9                           -9999.9   \n",
       "1                                   -9999.9                           -9999.9   \n",
       "2                                   -9999.9                           -9999.9   \n",
       "3                                   -9999.9                           -9999.9   \n",
       "4                                   -9999.9                           -9999.9   \n",
       "\n",
       "   Swell 2: Coming-from Mean Direct.(0=N,90=E)  \n",
       "0                                      -9999.9  \n",
       "1                                      -9999.9  \n",
       "2                                      -9999.9  \n",
       "3                                      -9999.9  \n",
       "4                                      -9999.9  "
      ]
     },
     "execution_count": 33,
     "metadata": {},
     "output_type": "execute_result"
    }
   ],
   "source": [
    "df = pd.read_csv('input/15429_19810_1050048_WAVE_19580103104854_20240219104854.csv',sep='\\t',header=1)\n",
    "df['Date (GMT)'] = pd.to_datetime(df['Date (GMT)'], format='%Y %m %d %H')\n",
    "df.head()"
   ]
  },
  {
   "cell_type": "code",
   "execution_count": 34,
   "metadata": {},
   "outputs": [
    {
     "data": {
      "text/plain": [
       "Date (GMT)                                      datetime64[ns]\n",
       "Significant Wave Height(m)                             float64\n",
       "Mean Period(s)                                         float64\n",
       "Peak Period(s)                                         float64\n",
       "Waves coming-from Direc.(0=N,90=E)                       int64\n",
       "Wind Sea: Spectral Signif. Wave Height(m)              float64\n",
       "Wind Sea: Coming-from Mean Direct.(0=N,90=E)           float64\n",
       "Swell 1: Spectral Signif. Wave Height(m)               float64\n",
       "Swell 1: Spectral Mean Period(s)                       float64\n",
       "Swell 1: Coming-from Mean Direct.(0=N,90=E)            float64\n",
       "Swell 2: Spectral Signif. Wave Height(m)               float64\n",
       "Swell 2: Spectral Mean Period(s)                       float64\n",
       "Swell 2: Coming-from Mean Direct.(0=N,90=E)            float64\n",
       "dtype: object"
      ]
     },
     "execution_count": 34,
     "metadata": {},
     "output_type": "execute_result"
    }
   ],
   "source": [
    "df.dtypes"
   ]
  },
  {
   "cell_type": "code",
   "execution_count": 44,
   "metadata": {},
   "outputs": [
    {
     "data": {
      "text/plain": [
       "5.92"
      ]
     },
     "execution_count": 44,
     "metadata": {},
     "output_type": "execute_result"
    }
   ],
   "source": [
    "MAX = max(df['Significant Wave Height(m)'])\n",
    "MAX"
   ]
  },
  {
   "cell_type": "code",
   "execution_count": 45,
   "metadata": {},
   "outputs": [
    {
     "data": {
      "text/plain": [
       "0.5530573184784301"
      ]
     },
     "execution_count": 45,
     "metadata": {},
     "output_type": "execute_result"
    }
   ],
   "source": [
    "SIGMA = np.std(df['Significant Wave Height(m)'])\n",
    "SIGMA"
   ]
  },
  {
   "cell_type": "code",
   "execution_count": 37,
   "metadata": {},
   "outputs": [],
   "source": [
    "K = 1.281"
   ]
  },
  {
   "cell_type": "code",
   "execution_count": 41,
   "metadata": {},
   "outputs": [
    {
     "data": {
      "text/plain": [
       "6.628466424970869"
      ]
     },
     "execution_count": 41,
     "metadata": {},
     "output_type": "execute_result"
    }
   ],
   "source": [
    "Hmax50 = MAX + K * SIGMA\n",
    "Hmax50"
   ]
  }
 ],
 "metadata": {
  "kernelspec": {
   "display_name": "Python 3",
   "language": "python",
   "name": "python3"
  },
  "language_info": {
   "codemirror_mode": {
    "name": "ipython",
    "version": 3
   },
   "file_extension": ".py",
   "mimetype": "text/x-python",
   "name": "python",
   "nbconvert_exporter": "python",
   "pygments_lexer": "ipython3",
   "version": "3.11.8"
  }
 },
 "nbformat": 4,
 "nbformat_minor": 2
}
